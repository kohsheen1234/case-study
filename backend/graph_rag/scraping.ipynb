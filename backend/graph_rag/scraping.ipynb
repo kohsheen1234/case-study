{
 "cells": [
  {
   "cell_type": "code",
   "execution_count": 1,
   "metadata": {},
   "outputs": [
    {
     "name": "stdout",
     "output_type": "stream",
     "text": [
      "Requirement already satisfied: langchain_experimental in /Users/kohsheentiku/Desktop/Open-source/case-study/.venv/lib/python3.9/site-packages (0.0.65)\n",
      "Requirement already satisfied: langchain-community<0.3.0,>=0.2.16 in /Users/kohsheentiku/Desktop/Open-source/case-study/.venv/lib/python3.9/site-packages (from langchain_experimental) (0.2.16)\n",
      "Requirement already satisfied: langchain-core<0.3.0,>=0.2.38 in /Users/kohsheentiku/Desktop/Open-source/case-study/.venv/lib/python3.9/site-packages (from langchain_experimental) (0.2.38)\n",
      "Requirement already satisfied: PyYAML>=5.3 in /Users/kohsheentiku/Desktop/Open-source/case-study/.venv/lib/python3.9/site-packages (from langchain-community<0.3.0,>=0.2.16->langchain_experimental) (6.0.2)\n",
      "Requirement already satisfied: SQLAlchemy<3,>=1.4 in /Users/kohsheentiku/Desktop/Open-source/case-study/.venv/lib/python3.9/site-packages (from langchain-community<0.3.0,>=0.2.16->langchain_experimental) (2.0.34)\n",
      "Requirement already satisfied: aiohttp<4.0.0,>=3.8.3 in /Users/kohsheentiku/Desktop/Open-source/case-study/.venv/lib/python3.9/site-packages (from langchain-community<0.3.0,>=0.2.16->langchain_experimental) (3.10.5)\n",
      "Requirement already satisfied: dataclasses-json<0.7,>=0.5.7 in /Users/kohsheentiku/Desktop/Open-source/case-study/.venv/lib/python3.9/site-packages (from langchain-community<0.3.0,>=0.2.16->langchain_experimental) (0.6.7)\n",
      "Requirement already satisfied: langchain<0.3.0,>=0.2.16 in /Users/kohsheentiku/Desktop/Open-source/case-study/.venv/lib/python3.9/site-packages (from langchain-community<0.3.0,>=0.2.16->langchain_experimental) (0.2.16)\n",
      "Requirement already satisfied: langsmith<0.2.0,>=0.1.0 in /Users/kohsheentiku/Desktop/Open-source/case-study/.venv/lib/python3.9/site-packages (from langchain-community<0.3.0,>=0.2.16->langchain_experimental) (0.1.111)\n",
      "Requirement already satisfied: numpy<2,>=1 in /Users/kohsheentiku/Desktop/Open-source/case-study/.venv/lib/python3.9/site-packages (from langchain-community<0.3.0,>=0.2.16->langchain_experimental) (1.26.4)\n",
      "Requirement already satisfied: requests<3,>=2 in /Users/kohsheentiku/Desktop/Open-source/case-study/.venv/lib/python3.9/site-packages (from langchain-community<0.3.0,>=0.2.16->langchain_experimental) (2.32.3)\n",
      "Requirement already satisfied: tenacity!=8.4.0,<9.0.0,>=8.1.0 in /Users/kohsheentiku/Desktop/Open-source/case-study/.venv/lib/python3.9/site-packages (from langchain-community<0.3.0,>=0.2.16->langchain_experimental) (8.5.0)\n",
      "Requirement already satisfied: jsonpatch<2.0,>=1.33 in /Users/kohsheentiku/Desktop/Open-source/case-study/.venv/lib/python3.9/site-packages (from langchain-core<0.3.0,>=0.2.38->langchain_experimental) (1.33)\n",
      "Requirement already satisfied: packaging<25,>=23.2 in /Users/kohsheentiku/Desktop/Open-source/case-study/.venv/lib/python3.9/site-packages (from langchain-core<0.3.0,>=0.2.38->langchain_experimental) (24.1)\n",
      "Requirement already satisfied: pydantic<3,>=1 in /Users/kohsheentiku/Desktop/Open-source/case-study/.venv/lib/python3.9/site-packages (from langchain-core<0.3.0,>=0.2.38->langchain_experimental) (2.8.2)\n",
      "Requirement already satisfied: typing-extensions>=4.7 in /Users/kohsheentiku/Desktop/Open-source/case-study/.venv/lib/python3.9/site-packages (from langchain-core<0.3.0,>=0.2.38->langchain_experimental) (4.12.2)\n",
      "Requirement already satisfied: aiohappyeyeballs>=2.3.0 in /Users/kohsheentiku/Desktop/Open-source/case-study/.venv/lib/python3.9/site-packages (from aiohttp<4.0.0,>=3.8.3->langchain-community<0.3.0,>=0.2.16->langchain_experimental) (2.4.0)\n",
      "Requirement already satisfied: aiosignal>=1.1.2 in /Users/kohsheentiku/Desktop/Open-source/case-study/.venv/lib/python3.9/site-packages (from aiohttp<4.0.0,>=3.8.3->langchain-community<0.3.0,>=0.2.16->langchain_experimental) (1.3.1)\n",
      "Requirement already satisfied: attrs>=17.3.0 in /Users/kohsheentiku/Desktop/Open-source/case-study/.venv/lib/python3.9/site-packages (from aiohttp<4.0.0,>=3.8.3->langchain-community<0.3.0,>=0.2.16->langchain_experimental) (24.2.0)\n",
      "Requirement already satisfied: frozenlist>=1.1.1 in /Users/kohsheentiku/Desktop/Open-source/case-study/.venv/lib/python3.9/site-packages (from aiohttp<4.0.0,>=3.8.3->langchain-community<0.3.0,>=0.2.16->langchain_experimental) (1.4.1)\n",
      "Requirement already satisfied: multidict<7.0,>=4.5 in /Users/kohsheentiku/Desktop/Open-source/case-study/.venv/lib/python3.9/site-packages (from aiohttp<4.0.0,>=3.8.3->langchain-community<0.3.0,>=0.2.16->langchain_experimental) (6.0.5)\n",
      "Requirement already satisfied: yarl<2.0,>=1.0 in /Users/kohsheentiku/Desktop/Open-source/case-study/.venv/lib/python3.9/site-packages (from aiohttp<4.0.0,>=3.8.3->langchain-community<0.3.0,>=0.2.16->langchain_experimental) (1.9.8)\n",
      "Requirement already satisfied: async-timeout<5.0,>=4.0 in /Users/kohsheentiku/Desktop/Open-source/case-study/.venv/lib/python3.9/site-packages (from aiohttp<4.0.0,>=3.8.3->langchain-community<0.3.0,>=0.2.16->langchain_experimental) (4.0.3)\n",
      "Requirement already satisfied: marshmallow<4.0.0,>=3.18.0 in /Users/kohsheentiku/Desktop/Open-source/case-study/.venv/lib/python3.9/site-packages (from dataclasses-json<0.7,>=0.5.7->langchain-community<0.3.0,>=0.2.16->langchain_experimental) (3.22.0)\n",
      "Requirement already satisfied: typing-inspect<1,>=0.4.0 in /Users/kohsheentiku/Desktop/Open-source/case-study/.venv/lib/python3.9/site-packages (from dataclasses-json<0.7,>=0.5.7->langchain-community<0.3.0,>=0.2.16->langchain_experimental) (0.9.0)\n",
      "Requirement already satisfied: jsonpointer>=1.9 in /Users/kohsheentiku/Desktop/Open-source/case-study/.venv/lib/python3.9/site-packages (from jsonpatch<2.0,>=1.33->langchain-core<0.3.0,>=0.2.38->langchain_experimental) (3.0.0)\n",
      "Requirement already satisfied: langchain-text-splitters<0.3.0,>=0.2.0 in /Users/kohsheentiku/Desktop/Open-source/case-study/.venv/lib/python3.9/site-packages (from langchain<0.3.0,>=0.2.16->langchain-community<0.3.0,>=0.2.16->langchain_experimental) (0.2.4)\n",
      "Requirement already satisfied: httpx<1,>=0.23.0 in /Users/kohsheentiku/Desktop/Open-source/case-study/.venv/lib/python3.9/site-packages (from langsmith<0.2.0,>=0.1.0->langchain-community<0.3.0,>=0.2.16->langchain_experimental) (0.27.2)\n",
      "Requirement already satisfied: orjson<4.0.0,>=3.9.14 in /Users/kohsheentiku/Desktop/Open-source/case-study/.venv/lib/python3.9/site-packages (from langsmith<0.2.0,>=0.1.0->langchain-community<0.3.0,>=0.2.16->langchain_experimental) (3.10.7)\n",
      "Requirement already satisfied: annotated-types>=0.4.0 in /Users/kohsheentiku/Desktop/Open-source/case-study/.venv/lib/python3.9/site-packages (from pydantic<3,>=1->langchain-core<0.3.0,>=0.2.38->langchain_experimental) (0.7.0)\n",
      "Requirement already satisfied: pydantic-core==2.20.1 in /Users/kohsheentiku/Desktop/Open-source/case-study/.venv/lib/python3.9/site-packages (from pydantic<3,>=1->langchain-core<0.3.0,>=0.2.38->langchain_experimental) (2.20.1)\n",
      "Requirement already satisfied: charset-normalizer<4,>=2 in /Users/kohsheentiku/Desktop/Open-source/case-study/.venv/lib/python3.9/site-packages (from requests<3,>=2->langchain-community<0.3.0,>=0.2.16->langchain_experimental) (3.3.2)\n",
      "Requirement already satisfied: idna<4,>=2.5 in /Users/kohsheentiku/Desktop/Open-source/case-study/.venv/lib/python3.9/site-packages (from requests<3,>=2->langchain-community<0.3.0,>=0.2.16->langchain_experimental) (3.8)\n",
      "Requirement already satisfied: urllib3<3,>=1.21.1 in /Users/kohsheentiku/Desktop/Open-source/case-study/.venv/lib/python3.9/site-packages (from requests<3,>=2->langchain-community<0.3.0,>=0.2.16->langchain_experimental) (2.2.2)\n",
      "Requirement already satisfied: certifi>=2017.4.17 in /Users/kohsheentiku/Desktop/Open-source/case-study/.venv/lib/python3.9/site-packages (from requests<3,>=2->langchain-community<0.3.0,>=0.2.16->langchain_experimental) (2024.8.30)\n",
      "Requirement already satisfied: anyio in /Users/kohsheentiku/Desktop/Open-source/case-study/.venv/lib/python3.9/site-packages (from httpx<1,>=0.23.0->langsmith<0.2.0,>=0.1.0->langchain-community<0.3.0,>=0.2.16->langchain_experimental) (4.4.0)\n",
      "Requirement already satisfied: httpcore==1.* in /Users/kohsheentiku/Desktop/Open-source/case-study/.venv/lib/python3.9/site-packages (from httpx<1,>=0.23.0->langsmith<0.2.0,>=0.1.0->langchain-community<0.3.0,>=0.2.16->langchain_experimental) (1.0.5)\n",
      "Requirement already satisfied: sniffio in /Users/kohsheentiku/Desktop/Open-source/case-study/.venv/lib/python3.9/site-packages (from httpx<1,>=0.23.0->langsmith<0.2.0,>=0.1.0->langchain-community<0.3.0,>=0.2.16->langchain_experimental) (1.3.1)\n",
      "Requirement already satisfied: h11<0.15,>=0.13 in /Users/kohsheentiku/Desktop/Open-source/case-study/.venv/lib/python3.9/site-packages (from httpcore==1.*->httpx<1,>=0.23.0->langsmith<0.2.0,>=0.1.0->langchain-community<0.3.0,>=0.2.16->langchain_experimental) (0.14.0)\n",
      "Requirement already satisfied: mypy-extensions>=0.3.0 in /Users/kohsheentiku/Desktop/Open-source/case-study/.venv/lib/python3.9/site-packages (from typing-inspect<1,>=0.4.0->dataclasses-json<0.7,>=0.5.7->langchain-community<0.3.0,>=0.2.16->langchain_experimental) (1.0.0)\n",
      "Requirement already satisfied: exceptiongroup>=1.0.2 in /Users/kohsheentiku/Desktop/Open-source/case-study/.venv/lib/python3.9/site-packages (from anyio->httpx<1,>=0.23.0->langsmith<0.2.0,>=0.1.0->langchain-community<0.3.0,>=0.2.16->langchain_experimental) (1.2.2)\n"
     ]
    }
   ],
   "source": [
    "!pip3 install langchain_experimental"
   ]
  },
  {
   "cell_type": "code",
   "execution_count": null,
   "metadata": {},
   "outputs": [],
   "source": [
    "from langchain_experimental.graph_transformers import LLMGraphTransformer\n",
    "\n",
    "llm = LLMGraphTransformer"
   ]
  }
 ],
 "metadata": {
  "kernelspec": {
   "display_name": ".venv",
   "language": "python",
   "name": "python3"
  },
  "language_info": {
   "codemirror_mode": {
    "name": "ipython",
    "version": 3
   },
   "file_extension": ".py",
   "mimetype": "text/x-python",
   "name": "python",
   "nbconvert_exporter": "python",
   "pygments_lexer": "ipython3",
   "version": "3.9.6"
  }
 },
 "nbformat": 4,
 "nbformat_minor": 2
}
